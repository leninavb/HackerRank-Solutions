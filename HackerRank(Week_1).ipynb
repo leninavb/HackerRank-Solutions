{
  "nbformat": 4,
  "nbformat_minor": 0,
  "metadata": {
    "colab": {
      "provenance": [],
      "authorship_tag": "ABX9TyPmm2J4sh0fy9hAMTjCSrVK",
      "include_colab_link": true
    },
    "kernelspec": {
      "name": "python3",
      "display_name": "Python 3"
    },
    "language_info": {
      "name": "python"
    }
  },
  "cells": [
    {
      "cell_type": "markdown",
      "metadata": {
        "id": "view-in-github",
        "colab_type": "text"
      },
      "source": [
        "<a href=\"https://colab.research.google.com/github/leninavb/HackerRank-Solutions/blob/main/HackerRank(Week_1).ipynb\" target=\"_parent\"><img src=\"https://colab.research.google.com/assets/colab-badge.svg\" alt=\"Open In Colab\"/></a>"
      ]
    },
    {
      "cell_type": "markdown",
      "source": [
        "Plus Minus: Given an array of integers, calculate the ratios of its elements that are positive, negative, and zero. Print the decimal value of each fraction on a new line with  places after the decimal."
      ],
      "metadata": {
        "id": "J40yHlncC5Gf"
      }
    },
    {
      "cell_type": "code",
      "source": [
        "#!/bin/python3\n",
        "\n",
        "import math\n",
        "import os\n",
        "import random\n",
        "import re\n",
        "import sys\n",
        "\n",
        "#\n",
        "# Complete the 'plusMinus' function below.\n",
        "#\n",
        "# The function accepts INTEGER_ARRAY arr as parameter.\n",
        "#\n",
        "#PROBLEM\n",
        "#Given an array of integers, calculate the ratios of its elements that are positive, negative, and zero. Print the decimal value of each fraction on a new line with  places after the decimal.\n",
        "\n",
        "#plusMinus has the following parameter(s):\n",
        "##int arr[n]: an array of integers\n",
        "\n",
        "#Input Format\n",
        "#The first line contains an integer, n, the size of the array.\n",
        "#The second line contains n space-separated integers that describe arr[n].\n",
        "\n",
        "#Constraints\n",
        "# 0<n<=100\n",
        "#-100<=arr[i]<=100\n",
        "\n",
        "\n",
        "\n",
        "def plusMinus(arr):\n",
        "    n = len(arr) #You need to extract the value of the lenght\n",
        "    a = 0\n",
        "    b = 0\n",
        "    c = 0\n",
        "\n",
        "    for num in arr: #Format to iterate through the array instead of use index\n",
        "        if num > 0:\n",
        "            a += 1 #that how you use the a++\n",
        "        elif num < 0:\n",
        "            b += 1\n",
        "        else:\n",
        "            c += 1\n",
        "\n",
        "    pos_ratio = float(a)/n\n",
        "    neg_ratio = float(b)/n\n",
        "    zero_ratio = float(c)/n\n",
        "\n",
        "    print(f\"{pos_ratio:.6f}\")\n",
        "    print(f\"{neg_ratio:.6f}\")\n",
        "    print(f\"{zero_ratio:.6f}\")\n",
        "\n",
        "if __name__ == '__main__':\n",
        "    n = int(input().strip()) #Change it to an input, a\n",
        "\n",
        "    arr = list(map(int, input().rstrip().split())) #\n",
        "\n",
        "    plusMinus(arr)\n"
      ],
      "metadata": {
        "colab": {
          "base_uri": "https://localhost:8080/"
        },
        "id": "2sT20s-gC4xz",
        "outputId": "5adf106b-6417-41b3-dcd6-6642be24c175"
      },
      "execution_count": 3,
      "outputs": [
        {
          "output_type": "stream",
          "name": "stdout",
          "text": [
            "6\n",
            "1 2 3 4 5 6\n",
            "1.000000\n",
            "0.000000\n",
            "0.000000\n"
          ]
        }
      ]
    },
    {
      "cell_type": "markdown",
      "source": [
        "Mini-Max Sum: Given five positive integers, find the minimum and maximum values that can be calculated by summing exactly four of the five integers. Then print the respective minimum and maximum values as a single line of two space-separated long integers."
      ],
      "metadata": {
        "id": "aZG1fAysVffg"
      }
    },
    {
      "cell_type": "code",
      "source": [
        "#!/bin/python3\n",
        "\n",
        "import math\n",
        "import os\n",
        "import random\n",
        "import re\n",
        "import sys\n",
        "\n",
        "#\n",
        "# Complete the 'miniMaxSum' function below.\n",
        "#\n",
        "# The function accepts INTEGER_ARRAY arr as parameter.\n",
        "#\n",
        "\n",
        "def miniMaxSum(arr):\n",
        "    # Write your code here\n",
        "    minVar = 0\n",
        "    maxVar = 0\n",
        "    count = 0\n",
        "    for j in range(1,len(arr)):\n",
        "        key = arr[j]\n",
        "        i =j-1\n",
        "        while i>-1 and arr[i]> key:\n",
        "            arr[i+1]=arr[i]\n",
        "            i = i-1\n",
        "        arr[i+1] = key\n",
        "\n",
        "\n",
        "    for i in arr:\n",
        "        count += 1\n",
        "        if count <= 4:\n",
        "            minVar += i\n",
        "        if count > 1:\n",
        "            maxVar += i\n",
        "\n",
        "    print(f\"{minVar} {maxVar}\")\n",
        "\n",
        "\n",
        "if __name__ == '__main__':\n",
        "\n",
        "    arr = list(map(int, input().rstrip().split()))\n",
        "\n",
        "    miniMaxSum(arr)\n"
      ],
      "metadata": {
        "colab": {
          "base_uri": "https://localhost:8080/",
          "height": 373
        },
        "id": "7ocCsKjtPcBy",
        "outputId": "9e52cf11-4a42-496b-a805-a7b790d02ff0"
      },
      "execution_count": 1,
      "outputs": [
        {
          "output_type": "error",
          "ename": "KeyboardInterrupt",
          "evalue": "Interrupted by user",
          "traceback": [
            "\u001b[0;31m---------------------------------------------------------------------------\u001b[0m",
            "\u001b[0;31mKeyboardInterrupt\u001b[0m                         Traceback (most recent call last)",
            "\u001b[0;32m/tmp/ipython-input-1-2900874016.py\u001b[0m in \u001b[0;36m<cell line: 0>\u001b[0;34m()\u001b[0m\n\u001b[1;32m     39\u001b[0m \u001b[0;32mif\u001b[0m \u001b[0m__name__\u001b[0m \u001b[0;34m==\u001b[0m \u001b[0;34m'__main__'\u001b[0m\u001b[0;34m:\u001b[0m\u001b[0;34m\u001b[0m\u001b[0;34m\u001b[0m\u001b[0m\n\u001b[1;32m     40\u001b[0m \u001b[0;34m\u001b[0m\u001b[0m\n\u001b[0;32m---> 41\u001b[0;31m     \u001b[0marr\u001b[0m \u001b[0;34m=\u001b[0m \u001b[0mlist\u001b[0m\u001b[0;34m(\u001b[0m\u001b[0mmap\u001b[0m\u001b[0;34m(\u001b[0m\u001b[0mint\u001b[0m\u001b[0;34m,\u001b[0m \u001b[0minput\u001b[0m\u001b[0;34m(\u001b[0m\u001b[0;34m)\u001b[0m\u001b[0;34m.\u001b[0m\u001b[0mrstrip\u001b[0m\u001b[0;34m(\u001b[0m\u001b[0;34m)\u001b[0m\u001b[0;34m.\u001b[0m\u001b[0msplit\u001b[0m\u001b[0;34m(\u001b[0m\u001b[0;34m)\u001b[0m\u001b[0;34m)\u001b[0m\u001b[0;34m)\u001b[0m\u001b[0;34m\u001b[0m\u001b[0;34m\u001b[0m\u001b[0m\n\u001b[0m\u001b[1;32m     42\u001b[0m \u001b[0;34m\u001b[0m\u001b[0m\n\u001b[1;32m     43\u001b[0m     \u001b[0mminiMaxSum\u001b[0m\u001b[0;34m(\u001b[0m\u001b[0marr\u001b[0m\u001b[0;34m)\u001b[0m\u001b[0;34m\u001b[0m\u001b[0;34m\u001b[0m\u001b[0m\n",
            "\u001b[0;32m/usr/local/lib/python3.11/dist-packages/ipykernel/kernelbase.py\u001b[0m in \u001b[0;36mraw_input\u001b[0;34m(self, prompt)\u001b[0m\n\u001b[1;32m   1175\u001b[0m                 \u001b[0;34m\"raw_input was called, but this frontend does not support input requests.\"\u001b[0m\u001b[0;34m\u001b[0m\u001b[0;34m\u001b[0m\u001b[0m\n\u001b[1;32m   1176\u001b[0m             )\n\u001b[0;32m-> 1177\u001b[0;31m         return self._input_request(\n\u001b[0m\u001b[1;32m   1178\u001b[0m             \u001b[0mstr\u001b[0m\u001b[0;34m(\u001b[0m\u001b[0mprompt\u001b[0m\u001b[0;34m)\u001b[0m\u001b[0;34m,\u001b[0m\u001b[0;34m\u001b[0m\u001b[0;34m\u001b[0m\u001b[0m\n\u001b[1;32m   1179\u001b[0m             \u001b[0mself\u001b[0m\u001b[0;34m.\u001b[0m\u001b[0m_parent_ident\u001b[0m\u001b[0;34m[\u001b[0m\u001b[0;34m\"shell\"\u001b[0m\u001b[0;34m]\u001b[0m\u001b[0;34m,\u001b[0m\u001b[0;34m\u001b[0m\u001b[0;34m\u001b[0m\u001b[0m\n",
            "\u001b[0;32m/usr/local/lib/python3.11/dist-packages/ipykernel/kernelbase.py\u001b[0m in \u001b[0;36m_input_request\u001b[0;34m(self, prompt, ident, parent, password)\u001b[0m\n\u001b[1;32m   1217\u001b[0m             \u001b[0;32mexcept\u001b[0m \u001b[0mKeyboardInterrupt\u001b[0m\u001b[0;34m:\u001b[0m\u001b[0;34m\u001b[0m\u001b[0;34m\u001b[0m\u001b[0m\n\u001b[1;32m   1218\u001b[0m                 \u001b[0;31m# re-raise KeyboardInterrupt, to truncate traceback\u001b[0m\u001b[0;34m\u001b[0m\u001b[0;34m\u001b[0m\u001b[0m\n\u001b[0;32m-> 1219\u001b[0;31m                 \u001b[0;32mraise\u001b[0m \u001b[0mKeyboardInterrupt\u001b[0m\u001b[0;34m(\u001b[0m\u001b[0;34m\"Interrupted by user\"\u001b[0m\u001b[0;34m)\u001b[0m \u001b[0;32mfrom\u001b[0m \u001b[0;32mNone\u001b[0m\u001b[0;34m\u001b[0m\u001b[0;34m\u001b[0m\u001b[0m\n\u001b[0m\u001b[1;32m   1220\u001b[0m             \u001b[0;32mexcept\u001b[0m \u001b[0mException\u001b[0m\u001b[0;34m:\u001b[0m\u001b[0;34m\u001b[0m\u001b[0;34m\u001b[0m\u001b[0m\n\u001b[1;32m   1221\u001b[0m                 \u001b[0mself\u001b[0m\u001b[0;34m.\u001b[0m\u001b[0mlog\u001b[0m\u001b[0;34m.\u001b[0m\u001b[0mwarning\u001b[0m\u001b[0;34m(\u001b[0m\u001b[0;34m\"Invalid Message:\"\u001b[0m\u001b[0;34m,\u001b[0m \u001b[0mexc_info\u001b[0m\u001b[0;34m=\u001b[0m\u001b[0;32mTrue\u001b[0m\u001b[0;34m)\u001b[0m\u001b[0;34m\u001b[0m\u001b[0;34m\u001b[0m\u001b[0m\n",
            "\u001b[0;31mKeyboardInterrupt\u001b[0m: Interrupted by user"
          ]
        }
      ]
    },
    {
      "cell_type": "markdown",
      "source": [
        "Time Conversion: Given a time in -hour AM/PM format, convert it to military (24-hour) time.\n",
        "\n",
        "Note: - 12:00:00AM on a 12-hour clock is 00:00:00 on a 24-hour clock.\n",
        "- 12:00:00PM on a 12-hour clock is 12:00:00 on a 24-hour clock.\n",
        "\n"
      ],
      "metadata": {
        "id": "7anrs9qbV1zB"
      }
    },
    {
      "cell_type": "code",
      "source": [
        "  # Write your code here\n",
        "  swww = '12:00:00AM'\n",
        "  stuff = swww.split(\":\")\n",
        "\n",
        "  hhAMPM = int(stuff[0])\n",
        "  mmMil = stuff[1]\n",
        "  ssMil = strAMPM[:2]\n",
        "  strAMPM  = stuff[2]\n",
        "  timeIndex = str(strAMPM[2:])\n",
        "\n",
        "  if timeIndex == \"AM\":\n",
        "      if 1 <= hhAMPM <= 11:\n",
        "          hhMil = hhAMPM\n",
        "      else:\n",
        "          hhMil = hhAMPM-12\n",
        "  elif timeIndex == \"PM\":\n",
        "      if 1 <= hhAMPM <= 11:\n",
        "          hhMil = hhAMPM +12\n",
        "      else:\n",
        "          hhMil = hhAMPM\n",
        "  print(timeIndex)\n",
        "  print(str(hhMil).zfill(02)+\" \"+mmMil+\" \"+ssMil)\n",
        "\n",
        "\n",
        "\n"
      ],
      "metadata": {
        "id": "CN1bcTxiW6Ep",
        "colab": {
          "base_uri": "https://localhost:8080/"
        },
        "outputId": "673cac5a-552b-4773-b0d9-fa2a20aaf02b"
      },
      "execution_count": null,
      "outputs": [
        {
          "output_type": "stream",
          "name": "stdout",
          "text": [
            "AM\n",
            "0 00 00\n"
          ]
        }
      ]
    },
    {
      "cell_type": "markdown",
      "source": [
        "Sparse Arrays: There is a collection of input strings and a collection of query strings. For each query string, determine how many times it occurs in the list of input strings. Return an array of the results."
      ],
      "metadata": {
        "id": "O341I7-w1GKh"
      }
    },
    {
      "cell_type": "code",
      "source": [],
      "metadata": {
        "id": "DlETrpvglE-H"
      },
      "execution_count": null,
      "outputs": []
    }
  ]
}